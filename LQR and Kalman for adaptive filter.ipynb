{
 "cells": [
  {
   "cell_type": "markdown",
   "metadata": {},
   "source": [
    "### Tying LQE and Adaptive filter "
   ]
  },
  {
   "cell_type": "markdown",
   "metadata": {},
   "source": [
    "For a Linear system\n",
    "\\begin{align}\n",
    "\\dot x = Ax \\\\\n",
    "y = Cx\n",
    "\\end{align}\n",
    "\n",
    "Without adding the command, this can also be described by \n",
    "\\begin{align}\n",
    "x(t)= e^{At}.x(0)\n",
    "\\end{align}\n",
    "\n",
    "#### LQR control problem\n",
    "To drive this system states to zero, we add control to the system to push it to the negative real side by adding a control $u = -K_c.x$ (the control gain is the PD gain).\n",
    "\\begin{align}\n",
    "\\begin{split}\n",
    "\\dot x &= Ax + Bu \\\\ \\\\\n",
    "\\dot x &= (A - BK_c)x\n",
    "\\end{split}\n",
    "\\end{align}\n",
    "\n",
    "Now when the eigen values are negative, the exponential $e^{(A - BK_c)}$ can bring the state $x$ to zero from any arbitrary state $x_o$"
   ]
  },
  {
   "cell_type": "markdown",
   "metadata": {},
   "source": [
    "#### LQE problem"
   ]
  },
  {
   "cell_type": "markdown",
   "metadata": {},
   "source": [
    "From the observation $y$, we need to get a $\\hat{x}$, the estimation of the states. The dynamics of this estimate could be written as:\n",
    "\\begin{align}\\begin{split}\n",
    "\\dot{\\hat x} &= A \\hat{x} + Bu + K_f (y-\\hat{y}) \\\\ \\\\\n",
    "&= A \\hat{x} + Bu + K_f y- K_fC\\hat{x} \\\\ \\\\\n",
    "\\dot{\\hat x}&= (A - K_fC) \\hat{x} + \\begin{bmatrix} B & K_f \\end{bmatrix}\n",
    "\\begin{bmatrix} u \\\\ y \\end{bmatrix} \n",
    "\\end{split}\\end{align}"
   ]
  },
  {
   "cell_type": "markdown",
   "metadata": {},
   "source": [
    "To observe the duality between the LQR and LQE system, let's rewrite the LQE problem into the error dynamics ($\\varepsilon =x - \\hat{x}$)\n",
    "\\begin{align}\n",
    "\\begin{split}\n",
    "\\dot \\varepsilon = \\dot x - \\dot{\\hat x}  & = (Ax+Bu) - (A - K_fC) \\hat{x} + \\begin{bmatrix} B & K_f \\end{bmatrix}\\begin{bmatrix} u \\\\ y \\end{bmatrix} \\\\\n",
    "& = Ax - A \\hat{x} + Bu - Bu + K_f C \\hat{x} - K_fy\\\\\n",
    "\\dot \\varepsilon &= (A - K_fC)\\varepsilon\n",
    "\\end{split}\n",
    "\\end{align}"
   ]
  },
  {
   "cell_type": "markdown",
   "metadata": {},
   "source": [
    "Comparing this with the LQR problem here we add some $-K_f\\varepsilon$ to the predicted state to converge the error to zero\n"
   ]
  },
  {
   "cell_type": "markdown",
   "metadata": {},
   "source": [
    "#### Adaptive control from LQR\n",
    "For the adaptive control in \n",
    "\\begin{equation}\n",
    "s = \\dot e + \\lambda e \\\\\n",
    "\\end{equation}\n",
    "The non linear parameters specific to the model, example the pendulum\n",
    "\\begin{equation}\n",
    "Y = \\begin{bmatrix} \\ddot x_r & \\dot x & sin(x) \\end{bmatrix}\\\\\n",
    "\\end{equation}\n",
    "And the update of the parameters:\n",
    "\\begin{equation}\n",
    "\\dot {\\hat a} = - \\gamma Y^Ts \\\\\n",
    "u = Y\\hat a - ks\n",
    "\\end{equation}\n",
    "were the $-ks$ part resembles the PD control"
   ]
  },
  {
   "cell_type": "code",
   "execution_count": null,
   "metadata": {},
   "outputs": [],
   "source": []
  }
 ],
 "metadata": {
  "kernelspec": {
   "display_name": "Python 3",
   "language": "python",
   "name": "python3"
  },
  "language_info": {
   "codemirror_mode": {
    "name": "ipython",
    "version": 3
   },
   "file_extension": ".py",
   "mimetype": "text/x-python",
   "name": "python",
   "nbconvert_exporter": "python",
   "pygments_lexer": "ipython3",
   "version": "3.7.3"
  }
 },
 "nbformat": 4,
 "nbformat_minor": 2
}
